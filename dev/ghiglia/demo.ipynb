{
 "cells": [
  {
   "cell_type": "code",
   "execution_count": 1,
   "metadata": {},
   "outputs": [],
   "source": [
    "import numpy as np\n",
    "import matplotlib.pyplot as plt\n",
    "from scipy.fft import dctn"
   ]
  },
  {
   "cell_type": "code",
   "execution_count": 33,
   "metadata": {},
   "outputs": [],
   "source": [
    "M = 10\n",
    "N = 5\n",
    "img = np.random.normal(size=(M,N))"
   ]
  },
  {
   "cell_type": "code",
   "execution_count": 16,
   "metadata": {},
   "outputs": [],
   "source": [
    "def neumann_grad(A):\n",
    "    \n",
    "\n",
    "    A_padded = np.pad(A, pad_width=1)\n",
    "    vert_grad = A_padded[1:-1,1:-1] - A_padded[:-2,1:-1]\n",
    "    horiz_grad = A_padded[1:-1,1:-1] - A_padded[1:-1,:-2]\n",
    "\n",
    "    return vert_grad, horiz_grad"
   ]
  },
  {
   "cell_type": "code",
   "execution_count": 27,
   "metadata": {},
   "outputs": [],
   "source": [
    "def neumann_grad_transpose(A1, A2):\n",
    "    return (A1.T + A2.T).T"
   ]
  },
  {
   "cell_type": "code",
   "execution_count": 28,
   "metadata": {},
   "outputs": [
    {
     "data": {
      "text/plain": [
       "(10, 5)"
      ]
     },
     "execution_count": 28,
     "metadata": {},
     "output_type": "execute_result"
    }
   ],
   "source": [
    "A.shape"
   ]
  },
  {
   "cell_type": "code",
   "execution_count": 29,
   "metadata": {},
   "outputs": [],
   "source": [
    "Rx1, Rx2 = neumann_grad(A)"
   ]
  },
  {
   "cell_type": "code",
   "execution_count": 30,
   "metadata": {},
   "outputs": [
    {
     "data": {
      "text/plain": [
       "(10, 5)"
      ]
     },
     "execution_count": 30,
     "metadata": {},
     "output_type": "execute_result"
    }
   ],
   "source": [
    "Rx1.shape"
   ]
  },
  {
   "cell_type": "code",
   "execution_count": null,
   "metadata": {},
   "outputs": [],
   "source": []
  },
  {
   "cell_type": "code",
   "execution_count": 39,
   "metadata": {},
   "outputs": [],
   "source": [
    "def apply_A(img):\n",
    "    \"\"\"Computes p^x and q^x as given above for an input image.\n",
    "    \"\"\"\n",
    "    h_diffs, v_diffs = np.zeros_like(img), np.zeros_like(img)\n",
    "    h_diffs[:,:-1] = img[:,:-1] - img[:,1:]\n",
    "    v_diffs[:-1,:] = img[:-1,:] - img[1:,:]\n",
    "\n",
    "    return h_diffs, v_diffs\n",
    "\n",
    "def apply_A_T(p, q):\n",
    "    \"\"\"Computes A^T(p,q).\n",
    "    \"\"\"\n",
    "    # Get m and n\n",
    "    M, N = p.shape\n",
    "    \n",
    "    # Array for output\n",
    "    result = np.zeros((M,N))\n",
    "\n",
    "    # Pad arrays\n",
    "    p = np.hstack([ np.zeros(M)[:,None], p])\n",
    "    q = np.vstack([ np.zeros(N)[None,:], q])\n",
    "\n",
    "    # # Pad p and q\n",
    "    # p = np.pad(p, 1)\n",
    "    # q = np.pad(q, 1)\n",
    "\n",
    "    # Insert result\n",
    "    result = p[:,1:] + q[1:,:] - p[:,:-1] - q[:-1, :] \n",
    "\n",
    "    return result"
   ]
  },
  {
   "cell_type": "code",
   "execution_count": 37,
   "metadata": {},
   "outputs": [],
   "source": [
    "p, q = apply_A(img)\n"
   ]
  },
  {
   "cell_type": "code",
   "execution_count": 40,
   "metadata": {},
   "outputs": [
    {
     "name": "stdout",
     "output_type": "stream",
     "text": [
      "dot1 = -0.05448996798513572\n",
      "dot2 = 1.6911761026161396\n",
      "\n",
      "dot1 = 5.02106965427462\n",
      "dot2 = 4.761563089457912\n",
      "\n",
      "dot1 = -14.155390783706578\n",
      "dot2 = -16.09454628825142\n",
      "\n",
      "dot1 = 5.4976115275911335\n",
      "dot2 = -2.1148111826393405\n",
      "\n",
      "dot1 = -2.401425500336643\n",
      "dot2 = -3.381251607648112\n",
      "\n",
      "dot1 = 4.432387061680465\n",
      "dot2 = 3.9897352411066396\n",
      "\n",
      "dot1 = -10.402385920862738\n",
      "dot2 = -8.603506987053489\n",
      "\n",
      "dot1 = 5.728667435326072\n",
      "dot2 = 7.999279080511236\n",
      "\n",
      "dot1 = -5.073089495950929\n",
      "dot2 = -5.3498690699465365\n",
      "\n",
      "dot1 = -16.234140794123636\n",
      "dot2 = -15.944838209706976\n",
      "\n"
     ]
    }
   ],
   "source": [
    "for j in range(10):\n",
    "    x = np.random.normal(size=(M,N))\n",
    "    y1, y2 = np.random.normal(size=(M,N)), np.random.normal(size=(M,N))\n",
    "    Rx1, Rx2 = apply_A(x)\n",
    "    Ry = apply_A_T(y1, y2)\n",
    "    dot1 = (Rx1*y1 + Rx2*y2).flatten().sum()\n",
    "    dot2 = (x * Ry).flatten().sum()\n",
    "    print(f\"dot1 = {dot1}\")\n",
    "    print(f\"dot2 = {dot2}\")\n",
    "    print(f\"\")"
   ]
  },
  {
   "cell_type": "code",
   "execution_count": null,
   "metadata": {},
   "outputs": [],
   "source": []
  },
  {
   "cell_type": "code",
   "execution_count": null,
   "metadata": {},
   "outputs": [],
   "source": [
    "for j in range(1):\n",
    "    v = 4 + np.random.normal(shape=A.shape)\n",
    "    dctn(v, norm=\"ortho\")\n"
   ]
  },
  {
   "cell_type": "code",
   "execution_count": null,
   "metadata": {},
   "outputs": [],
   "source": []
  },
  {
   "cell_type": "code",
   "execution_count": null,
   "metadata": {},
   "outputs": [],
   "source": []
  },
  {
   "cell_type": "code",
   "execution_count": null,
   "metadata": {},
   "outputs": [],
   "source": []
  },
  {
   "cell_type": "code",
   "execution_count": null,
   "metadata": {},
   "outputs": [],
   "source": []
  },
  {
   "cell_type": "code",
   "execution_count": null,
   "metadata": {},
   "outputs": [],
   "source": []
  },
  {
   "cell_type": "code",
   "execution_count": null,
   "metadata": {},
   "outputs": [],
   "source": []
  },
  {
   "cell_type": "code",
   "execution_count": null,
   "metadata": {},
   "outputs": [],
   "source": []
  },
  {
   "cell_type": "code",
   "execution_count": 15,
   "metadata": {},
   "outputs": [],
   "source": [
    "vert, horiz = neumann_grad(A)"
   ]
  },
  {
   "cell_type": "code",
   "execution_count": null,
   "metadata": {},
   "outputs": [],
   "source": []
  },
  {
   "cell_type": "code",
   "execution_count": null,
   "metadata": {},
   "outputs": [],
   "source": []
  },
  {
   "cell_type": "code",
   "execution_count": 8,
   "metadata": {},
   "outputs": [
    {
     "data": {
      "text/plain": [
       "<matplotlib.image.AxesImage at 0x7fe27a6de8e0>"
      ]
     },
     "execution_count": 8,
     "metadata": {},
     "output_type": "execute_result"
    },
    {
     "data": {
      "image/png": "[encoded data removed]",
      "text/plain": [
       "<Figure size 288x493.714 with 1 Axes>"
      ]
     },
     "metadata": {
      "needs_background": "light"
     },
     "output_type": "display_data"
    }
   ],
   "source": [
    "plt.matshow(np.pad(A, pad_width=1))"
   ]
  },
  {
   "cell_type": "code",
   "execution_count": 9,
   "metadata": {},
   "outputs": [],
   "source": [
    "A_padded = np.pad(A, pad_width=1)"
   ]
  },
  {
   "cell_type": "code",
   "execution_count": 12,
   "metadata": {},
   "outputs": [
    {
     "data": {
      "text/plain": [
       "<matplotlib.image.AxesImage at 0x7fe27df34430>"
      ]
     },
     "execution_count": 12,
     "metadata": {},
     "output_type": "execute_result"
    },
    {
     "data": {
      "image/png": "[encoded data removed]",
      "text/plain": [
       "<Figure size 432x288 with 1 Axes>"
      ]
     },
     "metadata": {
      "needs_background": "light"
     },
     "output_type": "display_data"
    }
   ],
   "source": [
    "plt.imshow(A_padded[1:,1:-1] - A_padded[:-1,1:-1])"
   ]
  },
  {
   "cell_type": "code",
   "execution_count": 13,
   "metadata": {},
   "outputs": [
    {
     "data": {
      "text/plain": [
       "<matplotlib.image.AxesImage at 0x7fe27e20ad00>"
      ]
     },
     "execution_count": 13,
     "metadata": {},
     "output_type": "execute_result"
    },
    {
     "data": {
      "image/png": "[encoded data removed]",
      "text/plain": [
       "<Figure size 432x288 with 1 Axes>"
      ]
     },
     "metadata": {
      "needs_background": "light"
     },
     "output_type": "display_data"
    }
   ],
   "source": [
    "plt.imshow(A_padded[1:-1,1:] - A_padded[1:-1,:-1])"
   ]
  },
  {
   "cell_type": "code",
   "execution_count": null,
   "metadata": {},
   "outputs": [],
   "source": []
  }
 ],
 "metadata": {
  "kernelspec": {
   "display_name": "speckle38",
   "language": "python",
   "name": "python3"
  },
  "language_info": {
   "codemirror_mode": {
    "name": "ipython",
    "version": 3
   },
   "file_extension": ".py",
   "mimetype": "text/x-python",
   "name": "python",
   "nbconvert_exporter": "python",
   "pygments_lexer": "ipython3",
   "version": "3.8.12"
  },
  "orig_nbformat": 4
 },
 "nbformat": 4,
 "nbformat_minor": 2
}

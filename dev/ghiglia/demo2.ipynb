{
 "cells": [
  {
   "cell_type": "code",
   "execution_count": 20,
   "metadata": {},
   "outputs": [],
   "source": [
    "import numpy as np\n",
    "import matplotlib.pyplot as plt\n",
    "from scipy.fft import dctn, idctn"
   ]
  },
  {
   "cell_type": "code",
   "execution_count": 21,
   "metadata": {},
   "outputs": [],
   "source": [
    "def apply_A(img):\n",
    "    \"\"\"Computes p = vert and q = horiz as given above for an input image.\n",
    "    \"\"\"\n",
    "    h_diffs, v_diffs = np.zeros_like(img), np.zeros_like(img)\n",
    "    h_diffs[:,:-1] = img[:,1:] - img[:,:-1]\n",
    "    v_diffs[:-1,:] = img[1:,:] - img[:-1,:]\n",
    "\n",
    "    return v_diffs, h_diffs\n",
    "\n",
    "\n",
    "def apply_A_T(p, q):\n",
    "    \"\"\"Computes A^T(p,q).\n",
    "    \"\"\"\n",
    "    # Get m and n\n",
    "    M, N = p.shape\n",
    "    \n",
    "    # Array for output\n",
    "    result = np.zeros((M,N))\n",
    "\n",
    "    # Pad arrays\n",
    "    q = np.hstack([ np.zeros(M)[:,None], q])\n",
    "    p = np.vstack([ np.zeros(N)[None,:], p])\n",
    "\n",
    "    pdiff = p[1:,:] - p[:-1,:]\n",
    "    pdiff[-1,:] = - p[-2,:]\n",
    "    qdiff = q[:,1:] - q[:,:-1]\n",
    "    qdiff[:,-1] = - q[:,-2]\n",
    "\n",
    "    # Insert result\n",
    "    result = pdiff + qdiff\n",
    "    #result = p[:,1:] + q[1:,:] - p[:,:-1] - q[:-1, :] \n",
    "\n",
    "    return -result"
   ]
  },
  {
   "cell_type": "code",
   "execution_count": 22,
   "metadata": {},
   "outputs": [],
   "source": [
    "M = 3\n",
    "N = 2\n",
    "img = np.random.normal(size=(M,N))"
   ]
  },
  {
   "cell_type": "code",
   "execution_count": 23,
   "metadata": {},
   "outputs": [
    {
     "data": {
      "text/plain": [
       "1.6659651278713126"
      ]
     },
     "execution_count": 23,
     "metadata": {},
     "output_type": "execute_result"
    }
   ],
   "source": [
    "img[1,0] - img[0,0]"
   ]
  },
  {
   "cell_type": "code",
   "execution_count": 24,
   "metadata": {},
   "outputs": [
    {
     "data": {
      "text/plain": [
       "array([[-0.97377562,  0.10489085],\n",
       "       [ 0.69218951, -0.39373236],\n",
       "       [-1.04862386, -1.08202028]])"
      ]
     },
     "execution_count": 24,
     "metadata": {},
     "output_type": "execute_result"
    }
   ],
   "source": [
    "img"
   ]
  },
  {
   "cell_type": "code",
   "execution_count": 25,
   "metadata": {},
   "outputs": [
    {
     "data": {
      "text/plain": [
       "(array([[ 1.66596513, -0.49862321],\n",
       "        [-1.74081336, -0.68828792],\n",
       "        [ 0.        ,  0.        ]]),\n",
       " array([[ 1.07866647,  0.        ],\n",
       "        [-1.08592186,  0.        ],\n",
       "        [-0.03339642,  0.        ]]))"
      ]
     },
     "execution_count": 25,
     "metadata": {},
     "output_type": "execute_result"
    }
   ],
   "source": [
    "apply_A(img)"
   ]
  },
  {
   "cell_type": "code",
   "execution_count": 26,
   "metadata": {},
   "outputs": [
    {
     "data": {
      "text/plain": [
       "(array([[ 1.66596513, -0.49862321],\n",
       "        [-1.74081336, -0.68828792],\n",
       "        [ 0.        ,  0.        ]]),\n",
       " array([[ 1.07866647,  0.        ],\n",
       "        [-1.08592186,  0.        ],\n",
       "        [-0.03339642,  0.        ]]))"
      ]
     },
     "execution_count": 26,
     "metadata": {},
     "output_type": "execute_result"
    }
   ],
   "source": [
    "apply_A(img)"
   ]
  },
  {
   "cell_type": "code",
   "execution_count": 27,
   "metadata": {},
   "outputs": [
    {
     "data": {
      "text/plain": [
       "array([[-2.7446316 ,  1.57728968],\n",
       "       [ 4.49270035, -0.89625715],\n",
       "       [-1.70741694, -0.72168435]])"
      ]
     },
     "execution_count": 27,
     "metadata": {},
     "output_type": "execute_result"
    }
   ],
   "source": [
    "p, q = apply_A(img)\n",
    "apply_A_T(p, q)"
   ]
  },
  {
   "cell_type": "code",
   "execution_count": 29,
   "metadata": {},
   "outputs": [
    {
     "name": "stdout",
     "output_type": "stream",
     "text": [
      "dot1 = -1.3737805286433682\n",
      "dot2 = -1.3737805286433684\n",
      "\n",
      "dot1 = -0.06524678842334586\n",
      "dot2 = -0.06524678842334591\n",
      "\n",
      "dot1 = 0.7855510637102511\n",
      "dot2 = 0.7855510637102512\n",
      "\n",
      "dot1 = 3.573824156140686\n",
      "dot2 = 3.5738241561406854\n",
      "\n",
      "dot1 = 5.374275418776051\n",
      "dot2 = 5.374275418776053\n",
      "\n",
      "dot1 = -1.3548687740424252\n",
      "dot2 = -1.3548687740424252\n",
      "\n",
      "dot1 = 5.3594474169782576\n",
      "dot2 = 5.359447416978258\n",
      "\n",
      "dot1 = -3.9811404448173064\n",
      "dot2 = -3.981140444817306\n",
      "\n",
      "dot1 = 4.964051297597077\n",
      "dot2 = 4.964051297597077\n",
      "\n",
      "dot1 = 8.119070408209275\n",
      "dot2 = 8.119070408209273\n",
      "\n"
     ]
    }
   ],
   "source": [
    "for j in range(10):\n",
    "    x = np.random.normal(size=(M,N))\n",
    "    y1, y2 = np.random.normal(size=(M,N)), np.random.normal(size=(M,N))\n",
    "    Rx1, Rx2 = apply_A(x)\n",
    "    Ry = apply_A_T(y1, y2)\n",
    "    dot1 = (Rx1*y1 + Rx2*y2).flatten().sum()\n",
    "    dot2 = (x * Ry).flatten().sum()\n",
    "    print(f\"dot1 = {dot1}\")\n",
    "    print(f\"dot2 = {dot2}\")\n",
    "    print(f\"\")"
   ]
  },
  {
   "cell_type": "code",
   "execution_count": null,
   "metadata": {},
   "outputs": [],
   "source": []
  },
  {
   "cell_type": "markdown",
   "metadata": {},
   "source": [
    "# Check if diagonalized by DCT?"
   ]
  },
  {
   "cell_type": "code",
   "execution_count": 70,
   "metadata": {},
   "outputs": [
    {
     "name": "stdout",
     "output_type": "stream",
     "text": [
      "[[2.62475807e-16 1.00000000e+00 3.00000000e+00]\n",
      " [9.78869674e-02 1.09788697e+00 3.09788697e+00]\n",
      " [3.81966011e-01 1.38196601e+00 3.38196601e+00]\n",
      " [8.24429495e-01 1.82442950e+00 3.82442950e+00]\n",
      " [1.38196601e+00 2.38196601e+00 4.38196601e+00]\n",
      " [2.00000000e+00 3.00000000e+00 5.00000000e+00]\n",
      " [2.61803399e+00 3.61803399e+00 5.61803399e+00]\n",
      " [3.17557050e+00 4.17557050e+00 6.17557050e+00]\n",
      " [3.61803399e+00 4.61803399e+00 6.61803399e+00]\n",
      " [3.90211303e+00 4.90211303e+00 6.90211303e+00]]\n"
     ]
    }
   ],
   "source": [
    "M, N = 10, 3\n",
    "v = np.random.normal(size=(M,N))\n",
    "p, q = apply_A( idctn( v, norm=\"ortho\" ) )\n",
    "z = apply_A_T(p, q)\n",
    "res = dctn( z, norm=\"ortho\" )\n",
    "res = res/v\n",
    "print(res)"
   ]
  },
  {
   "cell_type": "markdown",
   "metadata": {},
   "source": [
    "# It is! we are good to go"
   ]
  },
  {
   "cell_type": "code",
   "execution_count": null,
   "metadata": {},
   "outputs": [],
   "source": []
  },
  {
   "cell_type": "code",
   "execution_count": null,
   "metadata": {},
   "outputs": [],
   "source": []
  },
  {
   "cell_type": "code",
   "execution_count": null,
   "metadata": {},
   "outputs": [],
   "source": []
  },
  {
   "cell_type": "code",
   "execution_count": null,
   "metadata": {},
   "outputs": [],
   "source": []
  },
  {
   "cell_type": "code",
   "execution_count": null,
   "metadata": {},
   "outputs": [],
   "source": []
  }
 ],
 "metadata": {
  "kernelspec": {
   "display_name": "speckle38",
   "language": "python",
   "name": "python3"
  },
  "language_info": {
   "codemirror_mode": {
    "name": "ipython",
    "version": 3
   },
   "file_extension": ".py",
   "mimetype": "text/x-python",
   "name": "python",
   "nbconvert_exporter": "python",
   "pygments_lexer": "ipython3",
   "version": "3.8.12"
  },
  "orig_nbformat": 4
 },
 "nbformat": 4,
 "nbformat_minor": 2
}

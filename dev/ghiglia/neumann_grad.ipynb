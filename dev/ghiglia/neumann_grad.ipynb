{
 "cells": [
  {
   "cell_type": "code",
   "execution_count": 11,
   "metadata": {},
   "outputs": [],
   "source": [
    "import numpy as np\n",
    "from scipy.sparse.linalg import LinearOperator\n",
    "from scipy.fft import dctn, idctn\n",
    "import matplotlib.pyplot as plt"
   ]
  },
  {
   "cell_type": "markdown",
   "metadata": {},
   "source": [
    "# Matrix-free 2D discrete gradient operator"
   ]
  },
  {
   "cell_type": "code",
   "execution_count": 8,
   "metadata": {},
   "outputs": [
    {
     "name": "stdout",
     "output_type": "stream",
     "text": [
      "Adjoint test passed!\n",
      "<Ax, y> = -0.3624105135683702, <x, A^*y> = -0.36241051356836995\n"
     ]
    }
   ],
   "source": [
    "class DiscreteGradientOperatorNeumann(LinearOperator):\n",
    "    def __init__(self, shape):\n",
    "        super().__init__(shape=(2 * shape[0] * shape[1], shape[0] * shape[1]), dtype=np.float64)\n",
    "        self._shape = shape\n",
    "\n",
    "    def _matvec(self, x):\n",
    "        x = x.reshape(self._shape)\n",
    "        gradient_x = np.zeros(self._shape)\n",
    "        gradient_x[:, :-1] = np.diff(x, axis=1)\n",
    "        gradient_x[:, -1] = x[:, 0] - x[:, -1] # Neumann boundary condition in x\n",
    "        gradient_y = np.zeros(self._shape)\n",
    "        gradient_y[:-1, :] = np.diff(x, axis=0)\n",
    "        gradient_y[-1, :] = x[0, :] - x[-1, :] # Neumann boundary condition in y\n",
    "        return np.vstack((gradient_x, gradient_y)).ravel()\n",
    "\n",
    "    def _rmatvec(self, x):\n",
    "        x = x.reshape((2, self._shape[0], self._shape[1]))\n",
    "        adjoint_x = np.zeros(self._shape)\n",
    "        adjoint_x[:, 0] = x[0, :, -1] - x[0, :, 0] # Neumann boundary condition in x\n",
    "        adjoint_x[:, 1:] = -np.diff(x[0], axis=1)\n",
    "        adjoint_y = np.zeros(self._shape)\n",
    "        adjoint_y[0, :] = x[1, -1, :] - x[1, 0, :] # Neumann boundary condition in y\n",
    "        adjoint_y[1:, :] = -np.diff(x[1], axis=0)\n",
    "        return (adjoint_x + adjoint_y).ravel()\n",
    "\n",
    "# Example usage:\n",
    "M, N = 10, 3\n",
    "operator = DiscreteGradientOperatorNeumann((M, N))\n",
    "\n",
    "# Validation using random vectors\n",
    "x = np.random.rand(M * N)\n",
    "y = np.random.rand(2 * M * N)\n",
    "\n",
    "# Calculate <Ax, y>\n",
    "Ax_y = np.inner(operator.matvec(x), y)\n",
    "\n",
    "# Calculate <x, A^*y>\n",
    "x_Aty = np.inner(x, operator.rmatvec(y))\n",
    "\n",
    "# Check if the two inner products are approximately equal\n",
    "tolerance = 1e-10\n",
    "if np.abs(Ax_y - x_Aty) < tolerance:\n",
    "    print(\"Adjoint test passed!\")\n",
    "    print(f\"<Ax, y> = {Ax_y}, <x, A^*y> = {x_Aty}\")\n",
    "else:\n",
    "    print(\"Adjoint test failed.\")\n",
    "    print(f\"<Ax, y> = {Ax_y}, <x, A^*y> = {x_Aty}\")\n"
   ]
  },
  {
   "cell_type": "code",
   "execution_count": null,
   "metadata": {},
   "outputs": [],
   "source": []
  },
  {
   "cell_type": "markdown",
   "metadata": {},
   "source": [
    "# Is it diagonalized by DCT?"
   ]
  },
  {
   "cell_type": "code",
   "execution_count": 9,
   "metadata": {},
   "outputs": [],
   "source": [
    "M, N = 10, 3\n",
    "operator = DiscreteGradientOperatorNeumann((M, N))"
   ]
  },
  {
   "cell_type": "code",
   "execution_count": 53,
   "metadata": {},
   "outputs": [
    {
     "data": {
      "text/plain": [
       "array([-0.31883193, -0.03342873,  0.14460121,  0.86005666,  1.77204654,\n",
       "        2.3057544 ,  2.40110244,  3.08025545,  3.13760329,  3.57589473,\n",
       "        3.64458657,  3.74824413,  3.76422006,  4.03737227,  4.31308116,\n",
       "        4.347854  ,  4.49174667,  4.671976  ,  4.71402824,  5.32154723,\n",
       "        5.36069431,  5.70181667,  5.82386048,  5.85338999,  5.88949612,\n",
       "        5.99510127,  6.03239044,  6.20816333,  6.60591882,  7.54915684])"
      ]
     },
     "execution_count": 53,
     "metadata": {},
     "output_type": "execute_result"
    }
   ],
   "source": [
    "# Draw random vector\n",
    "v = 3 + np.random.normal(size=M*N)\n",
    "z = idctn( operator.rmatvec( operator.matvec( dctn( v, norm=\"ortho\", orthogonalize=True  ) ) ), norm=\"ortho\", orthogonalize=True ) / v\n",
    "np.sort(z)"
   ]
  },
  {
   "cell_type": "code",
   "execution_count": 62,
   "metadata": {},
   "outputs": [
    {
     "data": {
      "text/plain": [
       "array([-3.03331742e-01,  4.20462762e-16,  2.23380331e+00,  2.53348560e+00,\n",
       "        3.00000000e+00,  3.02036426e+00,  3.22908881e+00,  3.31447913e+00,\n",
       "        3.51870916e+00,  3.63995870e+00,  3.67887885e+00,  3.92898268e+00,\n",
       "        3.98052015e+00,  4.67065400e+00,  4.89312254e+00,  4.93844775e+00,\n",
       "        5.33347302e+00,  5.53869560e+00,  5.61531297e+00,  5.66642660e+00,\n",
       "        5.99144069e+00,  6.36697169e+00,  6.61135517e+00,  6.97804682e+00,\n",
       "        7.00000000e+00,  7.01500705e+00,  7.07668680e+00,  7.09968270e+00,\n",
       "        7.09978987e+00,  8.23059237e+00])"
      ]
     },
     "execution_count": 62,
     "metadata": {},
     "output_type": "execute_result"
    }
   ],
   "source": [
    "# Draw random vector\n",
    "v = 3 + np.random.normal(size=M*N)\n",
    "z = dctn( operator.rmatvec( operator.matvec( idctn( v, norm=\"ortho\", orthogonalize=True  ) ) ) , norm=\"ortho\", orthogonalize=True) / v\n",
    "np.sort(z)"
   ]
  },
  {
   "cell_type": "code",
   "execution_count": null,
   "metadata": {},
   "outputs": [],
   "source": []
  },
  {
   "cell_type": "code",
   "execution_count": 80,
   "metadata": {},
   "outputs": [
    {
     "data": {
      "text/plain": [
       "array([5.98266942e-16, 5.73275503e-01, 2.04332331e+00, 2.69422960e+00,\n",
       "       2.81479006e+00, 3.00000000e+00, 3.15946802e+00, 3.29760354e+00,\n",
       "       3.61506284e+00, 3.75646308e+00, 3.83666930e+00, 4.12111325e+00,\n",
       "       4.46575522e+00, 4.71439938e+00, 5.16618892e+00, 5.31959608e+00,\n",
       "       5.33647866e+00, 5.40845719e+00, 5.41071415e+00, 5.83588130e+00,\n",
       "       5.90429053e+00, 6.08360072e+00, 6.41201449e+00, 6.84322204e+00,\n",
       "       6.86748849e+00, 6.92862570e+00, 6.94482001e+00, 7.00000000e+00,\n",
       "       7.04911010e+00, 8.36252980e+00])"
      ]
     },
     "execution_count": 80,
     "metadata": {},
     "output_type": "execute_result"
    }
   ],
   "source": [
    "# Draw random vector\n",
    "v = 3 + np.random.normal(size=M*N)\n",
    "z = dctn( operator.rmatvec( operator.matvec( idctn( v, norm=\"ortho\", orthogonalize=False  ) ) ) , norm=\"ortho\", orthogonalize=False) / v\n",
    "np.sort(z)"
   ]
  },
  {
   "cell_type": "code",
   "execution_count": 87,
   "metadata": {},
   "outputs": [
    {
     "data": {
      "text/plain": [
       "array([-22.72478243,  -2.58571848,  -0.80724228,  -0.74607839,\n",
       "        -0.32365331,   0.38763778,   1.8942192 ,   2.06030042,\n",
       "         2.1071344 ,   2.92818543,   3.34623409,   3.57200636,\n",
       "         4.0125864 ,   4.19606801,   4.44411001,   4.48482351,\n",
       "         4.64520208,   4.99467894,   5.13565393,   5.69758115,\n",
       "         5.90385563,   6.1711313 ,   6.25341937,   6.84041996,\n",
       "         6.85271766,   7.42399905,   7.56440257,   7.75678349,\n",
       "         8.32822613,   9.50915277])"
      ]
     },
     "execution_count": 87,
     "metadata": {},
     "output_type": "execute_result"
    }
   ],
   "source": [
    "# Draw random vector\n",
    "v = 3 + np.random.normal(size=M*N)\n",
    "z = idctn( operator.rmatvec( operator.matvec( dctn( v, norm=\"ortho\", orthogonalize=False  ) ) ), norm=\"ortho\", orthogonalize=False ) / v\n",
    "np.sort(z)"
   ]
  },
  {
   "cell_type": "code",
   "execution_count": null,
   "metadata": {},
   "outputs": [],
   "source": []
  },
  {
   "cell_type": "code",
   "execution_count": null,
   "metadata": {},
   "outputs": [],
   "source": []
  },
  {
   "cell_type": "code",
   "execution_count": null,
   "metadata": {},
   "outputs": [],
   "source": []
  }
 ],
 "metadata": {
  "kernelspec": {
   "display_name": "speckle38",
   "language": "python",
   "name": "python3"
  },
  "language_info": {
   "codemirror_mode": {
    "name": "ipython",
    "version": 3
   },
   "file_extension": ".py",
   "mimetype": "text/x-python",
   "name": "python",
   "nbconvert_exporter": "python",
   "pygments_lexer": "ipython3",
   "version": "3.8.12"
  },
  "orig_nbformat": 4
 },
 "nbformat": 4,
 "nbformat_minor": 2
}

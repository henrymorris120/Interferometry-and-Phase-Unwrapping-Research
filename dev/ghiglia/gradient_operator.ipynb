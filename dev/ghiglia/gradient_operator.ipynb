{
 "cells": [
  {
   "cell_type": "code",
   "execution_count": 1,
   "metadata": {},
   "outputs": [],
   "source": [
    "import numpy as np\n",
    "import matplotlib.pyplot as plt\n",
    "from scipy.sparse.linalg import LinearOperator\n",
    "from scipy.fft import dctn, idctn"
   ]
  },
  {
   "cell_type": "code",
   "execution_count": 2,
   "metadata": {},
   "outputs": [],
   "source": [
    "class DiscreteGradientOperator(LinearOperator):\n",
    "    def __init__(self, grid_shape):\n",
    "        self.grid_shape = grid_shape\n",
    "        self.M, self.N = self.grid_shape\n",
    "        super().__init__(shape=(2*self.M*self.N, self.M*self.N), dtype=np.float64)\n",
    "\n",
    "    def _matvec(self, x):\n",
    "        \n",
    "        # Reshape x to have grid shape\n",
    "        x = x.reshape(self.grid_shape)\n",
    "        h_diffs, v_diffs = np.zeros(self.grid_shape), np.zeros(self.grid_shape)\n",
    "        h_diffs[:,:-1] = x[:,1:] - x[:,:-1]\n",
    "        v_diffs[:-1,:] = x[1:,:] - x[:-1,:]\n",
    "        output = np.zeros((2,self.M, self.N))\n",
    "        output[0,:,:] = v_diffs\n",
    "        output[1,:,:] = h_diffs\n",
    "        return output.flatten()\n",
    "    \n",
    "    def _rmatvec(self, x):\n",
    "        \n",
    "        # Reshape x to have (2, M, N) shape\n",
    "        x = x.reshape((2, self.M, self.N))\n",
    "        p, q = x[0,:,:].copy(), x[1,:,:]\n",
    "\n",
    "        # Pad arrays\n",
    "        q = np.hstack([ np.zeros(self.M)[:,None], q])\n",
    "        p = np.vstack([ np.zeros(self.N)[None,:], p])\n",
    "\n",
    "        pdiff = p[1:,:] - p[:-1,:]\n",
    "        pdiff[-1,:] = - p[-2,:]\n",
    "        qdiff = q[:,1:] - q[:,:-1]\n",
    "        qdiff[:,-1] = - q[:,-2]\n",
    "\n",
    "        # Insert result\n",
    "        output = -( pdiff + qdiff )\n",
    "\n",
    "        return output"
   ]
  },
  {
   "cell_type": "code",
   "execution_count": 3,
   "metadata": {},
   "outputs": [],
   "source": [
    "# Example usage:\n",
    "M, N = 10, 3\n",
    "operator = DiscreteGradientOperator((M, N))"
   ]
  },
  {
   "cell_type": "code",
   "execution_count": 4,
   "metadata": {},
   "outputs": [
    {
     "name": "stdout",
     "output_type": "stream",
     "text": [
      "dot1 = 8.29500261144395\n",
      "dot2 = 8.29500261144395\n",
      "\n",
      "dot1 = 21.63837763080294\n",
      "dot2 = 21.638377630802935\n",
      "\n",
      "dot1 = 6.413317552403925\n",
      "dot2 = 6.413317552403926\n",
      "\n",
      "dot1 = 1.3870286072371347\n",
      "dot2 = 1.387028607237133\n",
      "\n",
      "dot1 = 11.595389033756671\n",
      "dot2 = 11.595389033756668\n",
      "\n",
      "dot1 = 0.5817829679441677\n",
      "dot2 = 0.5817829679441695\n",
      "\n",
      "dot1 = -6.467013117832501\n",
      "dot2 = -6.467013117832497\n",
      "\n",
      "dot1 = 3.4015476717468434\n",
      "dot2 = 3.401547671746843\n",
      "\n",
      "dot1 = 14.328483272992528\n",
      "dot2 = 14.328483272992527\n",
      "\n",
      "dot1 = 4.857551893686579\n",
      "dot2 = 4.85755189368658\n",
      "\n"
     ]
    }
   ],
   "source": [
    "for j in range(10):\n",
    "    x = np.random.normal(size=(M,N)).flatten()\n",
    "    y = np.random.normal(size=(2,M,N)).flatten()\n",
    "    Rx = operator @ x\n",
    "    Ry = operator.T @ y\n",
    "    dot1 = (Rx*y).flatten().sum()\n",
    "    dot2 = (x * Ry).flatten().sum()\n",
    "    print(f\"dot1 = {dot1}\")\n",
    "    print(f\"dot2 = {dot2}\")\n",
    "    print(f\"\")"
   ]
  },
  {
   "cell_type": "code",
   "execution_count": 5,
   "metadata": {},
   "outputs": [
    {
     "name": "stdout",
     "output_type": "stream",
     "text": [
      "[2.83168121e-15 1.00000000e+00 3.00000000e+00 9.78869674e-02\n",
      " 1.09788697e+00 3.09788697e+00 3.81966011e-01 1.38196601e+00\n",
      " 3.38196601e+00 8.24429495e-01 1.82442950e+00 3.82442950e+00\n",
      " 1.38196601e+00 2.38196601e+00 4.38196601e+00 2.00000000e+00\n",
      " 3.00000000e+00 5.00000000e+00 2.61803399e+00 3.61803399e+00\n",
      " 5.61803399e+00 3.17557050e+00 4.17557050e+00 6.17557050e+00\n",
      " 3.61803399e+00 4.61803399e+00 6.61803399e+00 3.90211303e+00\n",
      " 4.90211303e+00 6.90211303e+00]\n"
     ]
    }
   ],
   "source": [
    "M, N = 10, 3\n",
    "operator = DiscreteGradientOperator((M, N))\n",
    "v = np.random.normal(size=(M,N)).flatten()\n",
    "v = v.reshape((M,N))\n",
    "p = operator @ ( idctn( v, norm=\"ortho\" ).flatten()  )\n",
    "z = operator.T @ p\n",
    "z = z.reshape((M,N))\n",
    "res = dctn( z, norm=\"ortho\" ).flatten()\n",
    "res = res/v.flatten()\n",
    "print(res)"
   ]
  },
  {
   "cell_type": "code",
   "execution_count": null,
   "metadata": {},
   "outputs": [],
   "source": []
  },
  {
   "cell_type": "code",
   "execution_count": 6,
   "metadata": {},
   "outputs": [],
   "source": [
    "def dct_diagonalized_operator_get_eigvals(A, grid_shape):\n",
    "    \"\"\"Given a LinearOperator A that is diagonalized by the 2-dimensional DCT, computes its eigenvalues.\n",
    "    \"\"\"\n",
    "    M, N = grid_shape\n",
    "    v = np.random.normal(size=(M,N))\n",
    "    tmp = A @ ( idctn( v, norm=\"ortho\" ).flatten()  )\n",
    "    tmp = tmp.reshape((M,N))\n",
    "    tmp = dctn( tmp, norm=\"ortho\" ).flatten()\n",
    "    res = tmp/v.flatten()\n",
    "    return res\n"
   ]
  },
  {
   "cell_type": "code",
   "execution_count": 7,
   "metadata": {},
   "outputs": [
    {
     "data": {
      "text/plain": [
       "array([6.01202558e-17, 1.00000000e+00, 3.00000000e+00, 9.78869674e-02,\n",
       "       1.09788697e+00, 3.09788697e+00, 3.81966011e-01, 1.38196601e+00,\n",
       "       3.38196601e+00, 8.24429495e-01, 1.82442950e+00, 3.82442950e+00,\n",
       "       1.38196601e+00, 2.38196601e+00, 4.38196601e+00, 2.00000000e+00,\n",
       "       3.00000000e+00, 5.00000000e+00, 2.61803399e+00, 3.61803399e+00,\n",
       "       5.61803399e+00, 3.17557050e+00, 4.17557050e+00, 6.17557050e+00,\n",
       "       3.61803399e+00, 4.61803399e+00, 6.61803399e+00, 3.90211303e+00,\n",
       "       4.90211303e+00, 6.90211303e+00])"
      ]
     },
     "execution_count": 7,
     "metadata": {},
     "output_type": "execute_result"
    }
   ],
   "source": [
    "grid_shape = (M,N)\n",
    "operator = DiscreteGradientOperator(grid_shape)\n",
    "AtA = operator.T @ operator\n",
    "eigvals = dct_diagonalized_operator_get_eigvals(AtA, grid_shape)\n",
    "eigvals"
   ]
  },
  {
   "cell_type": "markdown",
   "metadata": {},
   "source": [
    "# Build Matrix square root"
   ]
  },
  {
   "cell_type": "code",
   "execution_count": 8,
   "metadata": {},
   "outputs": [],
   "source": [
    "def dct_diagonalized_operator_sqrt(A, grid_shape, offset=True, offset_val=1e-2):\n",
    "    \"\"\"Given a LinearOperator A that is diagonalized by the DCT, performs the diagonalization (computes eigenvalues),\n",
    "    computes the square root E in M = E E^T, and returns a LinearOperator representing E^{-1}.\n",
    "\n",
    "    This can be used as a preconditioner. Instead of solving A x = b, it is equivalent to solve\n",
    "        E^{-1} A E^{-T} w = E^{-1} b\n",
    "    and recovering x = E^{-T} w.\n",
    "    \"\"\"\n",
    "    # Get eigenvalues\n",
    "    eigvals = dct_diagonalized_operator_get_eigvals(A, grid_shape)\n",
    "\n",
    "    # Offset, if E is singular\n",
    "    if offset:\n",
    "        eigvals[0] = offset_val\n",
    "\n",
    "    # Shape\n",
    "    M, N = grid_shape\n",
    "\n",
    "    def _matvec(x):\n",
    "        x = x.reshape(grid_shape)\n",
    "        tmp = dctn( x, norm=\"ortho\" ).flatten()\n",
    "        tmp = tmp/np.sqrt(eigvals)\n",
    "        return tmp\n",
    "    \n",
    "    def _rmatvec(x):\n",
    "        tmp = x/np.sqrt(eigvals)\n",
    "        tmp = tmp.reshape(grid_shape)\n",
    "        tmp = idctn( tmp, norm=\"ortho\" ).flatten()\n",
    "        return tmp\n",
    "\n",
    "    Einv = LinearOperator(A.shape, matvec=_matvec, rmatvec=_rmatvec)\n",
    "\n",
    "    return Einv"
   ]
  },
  {
   "cell_type": "code",
   "execution_count": 9,
   "metadata": {},
   "outputs": [],
   "source": [
    "grid_shape = (M,N)\n",
    "operator = DiscreteGradientOperator(grid_shape)\n",
    "AtA = operator.T @ operator\n",
    "Einv = dct_diagonalized_operator_sqrt(AtA, grid_shape)"
   ]
  },
  {
   "cell_type": "code",
   "execution_count": 10,
   "metadata": {},
   "outputs": [],
   "source": [
    "output = Einv.T @ Einv @ AtA @ np.cos(np.linspace(-1,1,M*N))"
   ]
  },
  {
   "cell_type": "code",
   "execution_count": 11,
   "metadata": {},
   "outputs": [
    {
     "data": {
      "text/plain": [
       "[<matplotlib.lines.Line2D at 0x234c9ff05b0>]"
      ]
     },
     "execution_count": 11,
     "metadata": {},
     "output_type": "execute_result"
    },
    {
     "data": {
      "image/png": "[encoded data removed]",
      "text/plain": [
       "<Figure size 432x288 with 1 Axes>"
      ]
     },
     "metadata": {
      "needs_background": "light"
     },
     "output_type": "display_data"
    }
   ],
   "source": [
    "plt.plot(output)"
   ]
  },
  {
   "cell_type": "code",
   "execution_count": 12,
   "metadata": {},
   "outputs": [
    {
     "data": {
      "image/png": "[encoded data removed]",
      "text/plain": [
       "<Figure size 432x288 with 1 Axes>"
      ]
     },
     "metadata": {
      "needs_background": "light"
     },
     "output_type": "display_data"
    }
   ],
   "source": [
    "plt.plot(np.cos(np.linspace(-1,1,M*N)))\n",
    "plt.show()"
   ]
  },
  {
   "cell_type": "code",
   "execution_count": 13,
   "metadata": {},
   "outputs": [],
   "source": [
    "output = AtA @ Einv.T @ Einv @ np.cos(np.linspace(-1,1,M*N))"
   ]
  },
  {
   "cell_type": "code",
   "execution_count": 14,
   "metadata": {},
   "outputs": [
    {
     "data": {
      "text/plain": [
       "[<matplotlib.lines.Line2D at 0x234ca155580>]"
      ]
     },
     "execution_count": 14,
     "metadata": {},
     "output_type": "execute_result"
    },
    {
     "data": {
      "image/png": "[encoded data removed]",
      "text/plain": [
       "<Figure size 432x288 with 1 Axes>"
      ]
     },
     "metadata": {
      "needs_background": "light"
     },
     "output_type": "display_data"
    }
   ],
   "source": [
    "plt.plot(output)"
   ]
  },
  {
   "cell_type": "code",
   "execution_count": null,
   "metadata": {},
   "outputs": [],
   "source": []
  },
  {
   "cell_type": "code",
   "execution_count": null,
   "metadata": {},
   "outputs": [],
   "source": []
  },
  {
   "cell_type": "markdown",
   "metadata": {},
   "source": [
    "# Example of preconditioned conjugate gradient?"
   ]
  },
  {
   "cell_type": "code",
   "execution_count": 27,
   "metadata": {},
   "outputs": [],
   "source": [
    "from scipy.sparse.linalg import aslinearoperator\n",
    "from scipy.sparse import diags\n",
    "import scipy.sparse as sps\n",
    "\n",
    "from phaseunwrapping import relative_residual_cg"
   ]
  },
  {
   "cell_type": "code",
   "execution_count": 83,
   "metadata": {},
   "outputs": [],
   "source": [
    "# Set up problem\n",
    "M, N = 30, 50\n",
    "grid_shape = (M,N)\n",
    "R = DiscreteGradientOperator(grid_shape)\n",
    "weights = np.random.uniform(low=1.0, high=1.01, size=R.shape[0])\n",
    "W = aslinearoperator(diags(weights))\n",
    "RtWR = R.T @ (W @ R) + 1e-0*aslinearoperator(sps.eye(M*N))\n",
    "# + 1e-2*aslinearoperator(sps.eye(M*N))\n",
    "\n",
    "# Preconditioner\n",
    "RtR = R.T @ R + 1e-0*aslinearoperator(sps.eye(M*N))\n",
    "Einv = dct_diagonalized_operator_sqrt(RtR, grid_shape)\n",
    "\n",
    "# RHS\n",
    "np.random.seed(0)\n",
    "#rhs = np.random.normal(size=M*N)\n",
    "rhs = np.arange(M*N)\n",
    "\n",
    "# Subtract off the projection onto the kernel\n",
    "const_vec = np.ones(M*N)\n",
    "#rhs = rhs - (  ( np.dot(const_vec, rhs)/np.dot(const_vec, const_vec) )*const_vec  ) "
   ]
  },
  {
   "cell_type": "code",
   "execution_count": 84,
   "metadata": {},
   "outputs": [
    {
     "name": "stdout",
     "output_type": "stream",
     "text": [
      "n iterations without preconditioning: 21\n"
     ]
    },
    {
     "data": {
      "image/png": "[encoded data removed]",
      "text/plain": [
       "<Figure size 432x288 with 1 Axes>"
      ]
     },
     "metadata": {
      "needs_background": "light"
     },
     "output_type": "display_data"
    }
   ],
   "source": [
    "cg_sol = relative_residual_cg(RtWR, rhs)\n",
    "sol = cg_sol[\"x\"]\n",
    "print(f\"n iterations without preconditioning: {cg_sol['iterations']}\")\n",
    "plt.plot(sol)\n",
    "plt.show()"
   ]
  },
  {
   "cell_type": "code",
   "execution_count": 87,
   "metadata": {},
   "outputs": [],
   "source": [
    "# Solve precondioned system\n",
    "Q = Einv @ (R.T @ R +  1e-0*aslinearoperator(sps.eye(M*N)) ) @ Einv.T\n",
    "pcg_sol = relative_residual_cg(Q, Einv @ rhs)"
   ]
  },
  {
   "cell_type": "code",
   "execution_count": 89,
   "metadata": {},
   "outputs": [
    {
     "name": "stdout",
     "output_type": "stream",
     "text": [
      "2\n"
     ]
    }
   ],
   "source": [
    "print(pcg_sol[\"iterations\"])"
   ]
  },
  {
   "cell_type": "code",
   "execution_count": 92,
   "metadata": {},
   "outputs": [
    {
     "data": {
      "text/plain": [
       "[<matplotlib.lines.Line2D at 0x234cc20da90>]"
      ]
     },
     "execution_count": 92,
     "metadata": {},
     "output_type": "execute_result"
    },
    {
     "data": {
      "image/png": "[encoded data removed]",
      "text/plain": [
       "<Figure size 432x288 with 1 Axes>"
      ]
     },
     "metadata": {
      "needs_background": "light"
     },
     "output_type": "display_data"
    }
   ],
   "source": [
    "plt.plot(Einv.T @ pcg_sol[\"x\"])"
   ]
  },
  {
   "cell_type": "code",
   "execution_count": null,
   "metadata": {},
   "outputs": [],
   "source": []
  },
  {
   "cell_type": "code",
   "execution_count": null,
   "metadata": {},
   "outputs": [],
   "source": []
  },
  {
   "cell_type": "markdown",
   "metadata": {},
   "source": [
    "# Exploring when the matrix is singular?"
   ]
  },
  {
   "cell_type": "code",
   "execution_count": 106,
   "metadata": {},
   "outputs": [],
   "source": [
    "# Set up problem\n",
    "M, N = 30, 50\n",
    "grid_shape = (M,N)\n",
    "R = DiscreteGradientOperator(grid_shape)\n",
    "weights = np.random.uniform(low=1.0, high=1.01, size=R.shape[0])\n",
    "W = aslinearoperator(diags(weights))\n",
    "RtWR = R.T @ (W @ R)\n",
    "# + 1e-2*aslinearoperator(sps.eye(M*N))\n",
    "\n",
    "# Preconditioner\n",
    "RtR = R.T @ R + 1e-0*aslinearoperator(sps.eye(M*N))\n",
    "Einv = dct_diagonalized_operator_sqrt(RtR, grid_shape)\n",
    "\n",
    "# RHS\n",
    "np.random.seed(0)\n",
    "#rhs = np.random.normal(size=M*N)\n",
    "rhs = np.arange(M*N)\n",
    "\n",
    "# Subtract off the projection onto the kernel\n",
    "const_vec = np.ones(M*N)\n",
    "#rhs = rhs - (  ( np.dot(const_vec, rhs)/np.dot(const_vec, const_vec) )*const_vec  ) "
   ]
  },
  {
   "cell_type": "code",
   "execution_count": 111,
   "metadata": {},
   "outputs": [],
   "source": [
    "#rhs = R.T @ np.arange(R.T.shape[1])\n",
    "rhs = rhs - (  ( np.dot(const_vec, rhs)/np.dot(const_vec, const_vec) )*const_vec  ) "
   ]
  },
  {
   "cell_type": "code",
   "execution_count": 113,
   "metadata": {},
   "outputs": [
    {
     "name": "stdout",
     "output_type": "stream",
     "text": [
      "n iterations without preconditioning: 181\n"
     ]
    },
    {
     "data": {
      "image/png": "[encoded data removed]",
      "text/plain": [
       "<Figure size 432x288 with 1 Axes>"
      ]
     },
     "metadata": {
      "needs_background": "light"
     },
     "output_type": "display_data"
    }
   ],
   "source": [
    "cg_sol = relative_residual_cg(RtWR, rhs)\n",
    "sol = cg_sol[\"x\"]\n",
    "print(f\"n iterations without preconditioning: {cg_sol['iterations']}\")\n",
    "plt.plot(sol)\n",
    "plt.show()"
   ]
  },
  {
   "cell_type": "code",
   "execution_count": null,
   "metadata": {},
   "outputs": [],
   "source": []
  },
  {
   "cell_type": "code",
   "execution_count": null,
   "metadata": {},
   "outputs": [],
   "source": []
  }
 ],
 "metadata": {
  "kernelspec": {
   "display_name": "speckle38",
   "language": "python",
   "name": "python3"
  },
  "language_info": {
   "codemirror_mode": {
    "name": "ipython",
    "version": 3
   },
   "file_extension": ".py",
   "mimetype": "text/x-python",
   "name": "python",
   "nbconvert_exporter": "python",
   "pygments_lexer": "ipython3",
   "version": "3.8.13"
  },
  "orig_nbformat": 4
 },
 "nbformat": 4,
 "nbformat_minor": 2
}

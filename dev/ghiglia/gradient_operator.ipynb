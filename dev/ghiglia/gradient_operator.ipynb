{
 "cells": [
  {
   "cell_type": "code",
   "execution_count": 2,
   "metadata": {},
   "outputs": [],
   "source": [
    "import numpy as np\n",
    "import matplotlib.pyplot as plt\n",
    "from scipy.sparse.linalg import LinearOperator\n",
    "from scipy.fft import dctn, idctn"
   ]
  },
  {
   "cell_type": "code",
   "execution_count": 6,
   "metadata": {},
   "outputs": [],
   "source": [
    "class DiscreteGradientOperator(LinearOperator):\n",
    "    def __init__(self, grid_shape):\n",
    "        self.grid_shape = grid_shape\n",
    "        self.M, self.N = self.grid_shape\n",
    "        super().__init__(shape=(2*self.M*self.N, self.M*self.N), dtype=np.float64)\n",
    "\n",
    "    def _matvec(self, x):\n",
    "        \n",
    "        # Reshape x to have grid shape\n",
    "        x = x.reshape(self.grid_shape)\n",
    "        h_diffs, v_diffs = np.zeros(self.grid_shape), np.zeros(self.grid_shape)\n",
    "        h_diffs[:,:-1] = x[:,1:] - x[:,:-1]\n",
    "        v_diffs[:-1,:] = x[1:,:] - x[:-1,:]\n",
    "        output = np.zeros((2,self.M, self.N))\n",
    "        output[0,:,:] = v_diffs\n",
    "        output[1,:,:] = h_diffs\n",
    "        return output.flatten()\n",
    "    \n",
    "    def _rmatvec(self, x):\n",
    "        \n",
    "        # Reshape x to have (2, M, N) shape\n",
    "        x = x.reshape((2, self.M, self.N))\n",
    "        p, q = x[0,:,:].copy(), x[1,:,:]\n",
    "\n",
    "        # Pad arrays\n",
    "        q = np.hstack([ np.zeros(self.M)[:,None], q])\n",
    "        p = np.vstack([ np.zeros(self.N)[None,:], p])\n",
    "\n",
    "        pdiff = p[1:,:] - p[:-1,:]\n",
    "        pdiff[-1,:] = - p[-2,:]\n",
    "        qdiff = q[:,1:] - q[:,:-1]\n",
    "        qdiff[:,-1] = - q[:,-2]\n",
    "\n",
    "        # Insert result\n",
    "        output = -( pdiff + qdiff )\n",
    "\n",
    "        return output"
   ]
  },
  {
   "cell_type": "code",
   "execution_count": 7,
   "metadata": {},
   "outputs": [],
   "source": [
    "# Example usage:\n",
    "M, N = 10, 3\n",
    "operator = DiscreteGradientOperator((M, N))"
   ]
  },
  {
   "cell_type": "code",
   "execution_count": null,
   "metadata": {},
   "outputs": [],
   "source": [
    "for j in range(10):\n",
    "    x = np.random.normal(size=(M,N))\n",
    "    y1, y2 = np.random.normal(size=(M,N)), np.random.normal(size=(M,N))\n",
    "    Rx1, Rx2 = apply_A(x)\n",
    "    Ry = apply_A_T(y1, y2)\n",
    "    dot1 = (Rx1*y1 + Rx2*y2).flatten().sum()\n",
    "    dot2 = (x * Ry).flatten().sum()\n",
    "    print(f\"dot1 = {dot1}\")\n",
    "    print(f\"dot2 = {dot2}\")\n",
    "    print(f\"\")"
   ]
  },
  {
   "cell_type": "code",
   "execution_count": null,
   "metadata": {},
   "outputs": [],
   "source": []
  },
  {
   "cell_type": "code",
   "execution_count": null,
   "metadata": {},
   "outputs": [],
   "source": []
  },
  {
   "cell_type": "code",
   "execution_count": null,
   "metadata": {},
   "outputs": [],
   "source": []
  },
  {
   "cell_type": "code",
   "execution_count": null,
   "metadata": {},
   "outputs": [],
   "source": []
  },
  {
   "cell_type": "code",
   "execution_count": null,
   "metadata": {},
   "outputs": [],
   "source": []
  },
  {
   "cell_type": "code",
   "execution_count": null,
   "metadata": {},
   "outputs": [],
   "source": []
  }
 ],
 "metadata": {
  "kernelspec": {
   "display_name": "speckle38",
   "language": "python",
   "name": "python3"
  },
  "language_info": {
   "codemirror_mode": {
    "name": "ipython",
    "version": 3
   },
   "file_extension": ".py",
   "mimetype": "text/x-python",
   "name": "python",
   "nbconvert_exporter": "python",
   "pygments_lexer": "ipython3",
   "version": "3.8.12"
  },
  "orig_nbformat": 4
 },
 "nbformat": 4,
 "nbformat_minor": 2
}
